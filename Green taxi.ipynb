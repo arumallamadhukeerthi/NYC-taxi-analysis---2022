{
 "cells": [
  {
   "cell_type": "code",
   "execution_count": 13,
   "id": "364dfc88",
   "metadata": {},
   "outputs": [],
   "source": [
    "import os"
   ]
  },
  {
   "cell_type": "code",
   "execution_count": 25,
   "id": "7d891a97",
   "metadata": {},
   "outputs": [],
   "source": [
    "import parquet as pq\n",
    "import pandas as pd"
   ]
  },
  {
   "cell_type": "code",
   "execution_count": 15,
   "id": "19ea50a2",
   "metadata": {},
   "outputs": [],
   "source": [
    "folder_path = '.'"
   ]
  },
  {
   "cell_type": "code",
   "execution_count": 16,
   "id": "26dfa429",
   "metadata": {},
   "outputs": [],
   "source": [
    "output_csv_path = 'output.csv'"
   ]
  },
  {
   "cell_type": "code",
   "execution_count": 8,
   "id": "82cedf4c",
   "metadata": {},
   "outputs": [
    {
     "name": "stdout",
     "output_type": "stream",
     "text": [
      "Current working directory: /Users/sriyadamaraju/Downloads/python\n"
     ]
    }
   ],
   "source": [
    "import os\n",
    "\n",
    "# Get the current working directory\n",
    "current_directory = os.getcwd()\n",
    "\n",
    "# Print the current working directory\n",
    "print(\"Current working directory:\", current_directory)\n"
   ]
  },
  {
   "cell_type": "code",
   "execution_count": 18,
   "id": "3674ae5f",
   "metadata": {},
   "outputs": [],
   "source": [
    "parquet_files = [file for file in os.listdir(folder_path) if file.endswith('.parquet')]\n"
   ]
  },
  {
   "cell_type": "code",
   "execution_count": 19,
   "id": "11cd7b2b",
   "metadata": {},
   "outputs": [
    {
     "data": {
      "text/plain": [
       "['green_tripdata_2022-09.parquet',\n",
       " 'green_tripdata_2022-10.parquet',\n",
       " 'green_tripdata_2022-11.parquet',\n",
       " 'green_tripdata_2022-01.parquet',\n",
       " 'green_tripdata_2022-08.parquet',\n",
       " 'green_tripdata_2022-03.parquet',\n",
       " 'green_tripdata_2022-12.parquet',\n",
       " 'green_tripdata_2022-02.parquet',\n",
       " 'green_tripdata_2022-07.parquet',\n",
       " 'green_tripdata_2022-06.parquet',\n",
       " 'green_tripdata_2022-04.parquet',\n",
       " 'green_tripdata_2022-05.parquet']"
      ]
     },
     "execution_count": 19,
     "metadata": {},
     "output_type": "execute_result"
    }
   ],
   "source": [
    "parquet_files"
   ]
  },
  {
   "cell_type": "code",
   "execution_count": 26,
   "id": "0192defb",
   "metadata": {},
   "outputs": [],
   "source": [
    "pd = pd.DataFrame()"
   ]
  },
  {
   "cell_type": "code",
   "execution_count": 27,
   "id": "306dc9c6",
   "metadata": {},
   "outputs": [
    {
     "ename": "AttributeError",
     "evalue": "module 'parquet' has no attribute 'read_table'",
     "output_type": "error",
     "traceback": [
      "\u001b[0;31m---------------------------------------------------------------------------\u001b[0m",
      "\u001b[0;31mAttributeError\u001b[0m                            Traceback (most recent call last)",
      "\u001b[1;32m/Users/sriyadamaraju/Downloads/python/Green taxi.ipynb Cell 9\u001b[0m line \u001b[0;36m3\n\u001b[1;32m      <a href='vscode-notebook-cell:/Users/sriyadamaraju/Downloads/python/Green%20taxi.ipynb#X16sZmlsZQ%3D%3D?line=0'>1</a>\u001b[0m \u001b[39mfor\u001b[39;00m file \u001b[39min\u001b[39;00m parquet_files:\n\u001b[1;32m      <a href='vscode-notebook-cell:/Users/sriyadamaraju/Downloads/python/Green%20taxi.ipynb#X16sZmlsZQ%3D%3D?line=1'>2</a>\u001b[0m     file_path \u001b[39m=\u001b[39m os\u001b[39m.\u001b[39mpath\u001b[39m.\u001b[39mjoin(folder_path, file)\n\u001b[0;32m----> <a href='vscode-notebook-cell:/Users/sriyadamaraju/Downloads/python/Green%20taxi.ipynb#X16sZmlsZQ%3D%3D?line=2'>3</a>\u001b[0m     table \u001b[39m=\u001b[39m pq\u001b[39m.\u001b[39;49mread_table(file_path)\n\u001b[1;32m      <a href='vscode-notebook-cell:/Users/sriyadamaraju/Downloads/python/Green%20taxi.ipynb#X16sZmlsZQ%3D%3D?line=3'>4</a>\u001b[0m     df \u001b[39m=\u001b[39m table\u001b[39m.\u001b[39mto_pandas()\n\u001b[1;32m      <a href='vscode-notebook-cell:/Users/sriyadamaraju/Downloads/python/Green%20taxi.ipynb#X16sZmlsZQ%3D%3D?line=4'>5</a>\u001b[0m     combined_data \u001b[39m=\u001b[39m combined_data\u001b[39m.\u001b[39mappend(df, ignore_index\u001b[39m=\u001b[39m\u001b[39mTrue\u001b[39;00m)\n",
      "\u001b[0;31mAttributeError\u001b[0m: module 'parquet' has no attribute 'read_table'"
     ]
    }
   ],
   "source": [
    "for file in parquet_files:\n",
    "    file_path = os.path.join(folder_path, file)\n",
    "    table = pq.read_table(file_path)\n",
    "    df = table.to_pandas()\n",
    "    combined_data = combined_data.append(df, ignore_index=True)"
   ]
  }
 ],
 "metadata": {
  "kernelspec": {
   "display_name": "Python 3",
   "language": "python",
   "name": "python3"
  },
  "language_info": {
   "codemirror_mode": {
    "name": "ipython",
    "version": 3
   },
   "file_extension": ".py",
   "mimetype": "text/x-python",
   "name": "python",
   "nbconvert_exporter": "python",
   "pygments_lexer": "ipython3",
   "version": "3.12.0"
  }
 },
 "nbformat": 4,
 "nbformat_minor": 5
}
