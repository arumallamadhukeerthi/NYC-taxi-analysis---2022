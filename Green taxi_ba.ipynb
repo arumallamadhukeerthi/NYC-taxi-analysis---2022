{
 "cells": [
  {
   "cell_type": "code",
   "execution_count": 2,
   "id": "364dfc88",
   "metadata": {},
   "outputs": [],
   "source": [
    "import os"
   ]
  },
  {
   "cell_type": "code",
   "execution_count": 4,
   "id": "7d891a97",
   "metadata": {},
   "outputs": [],
   "source": [
    "import pyarrow.parquet as pq\n",
    "import pandas as pd"
   ]
  },
  {
   "cell_type": "code",
   "execution_count": 5,
   "id": "19ea50a2",
   "metadata": {},
   "outputs": [],
   "source": [
    "folder_path = '.'"
   ]
  },
  {
   "cell_type": "code",
   "execution_count": 6,
   "id": "26dfa429",
   "metadata": {},
   "outputs": [],
   "source": [
    "output_csv_path = 'output.csv'"
   ]
  },
  {
   "cell_type": "code",
   "execution_count": 7,
   "id": "82cedf4c",
   "metadata": {},
   "outputs": [
    {
     "name": "stdout",
     "output_type": "stream",
     "text": [
      "Current working directory: /Users/bhanuprakash/Documents/project\n"
     ]
    }
   ],
   "source": [
    "import os\n",
    "\n",
    "# Get the current working directory\n",
    "current_directory = os.getcwd()\n",
    "\n",
    "# Print the current working directory\n",
    "print(\"Current working directory:\", current_directory)\n"
   ]
  },
  {
   "cell_type": "code",
   "execution_count": 8,
   "id": "3674ae5f",
   "metadata": {},
   "outputs": [],
   "source": [
    "parquet_files = [file for file in os.listdir(folder_path) if file.endswith('.parquet')]\n"
   ]
  },
  {
   "cell_type": "code",
   "execution_count": 9,
   "id": "11cd7b2b",
   "metadata": {},
   "outputs": [
    {
     "data": {
      "text/plain": [
       "['green_tripdata_2022-09.parquet',\n",
       " 'green_tripdata_2022-10.parquet',\n",
       " 'green_tripdata_2022-11.parquet',\n",
       " 'green_tripdata_2022-01.parquet',\n",
       " 'green_tripdata_2022-08.parquet',\n",
       " 'green_tripdata_2022-03.parquet',\n",
       " 'green_tripdata_2022-12.parquet',\n",
       " 'green_tripdata_2022-02.parquet',\n",
       " 'green_tripdata_2022-07.parquet',\n",
       " 'green_tripdata_2022-06.parquet',\n",
       " 'green_tripdata_2022-04.parquet',\n",
       " 'green_tripdata_2022-05.parquet']"
      ]
     },
     "execution_count": 9,
     "metadata": {},
     "output_type": "execute_result"
    }
   ],
   "source": [
    "parquet_files"
   ]
  },
  {
   "cell_type": "code",
   "execution_count": 10,
   "id": "0192defb",
   "metadata": {},
   "outputs": [],
   "source": [
    "pd = pd.DataFrame()"
   ]
  },
  {
   "cell_type": "code",
   "execution_count": 12,
   "id": "306dc9c6",
   "metadata": {},
   "outputs": [
    {
     "name": "stderr",
     "output_type": "stream",
     "text": [
      "/var/folders/wd/g8mvvv392p11yf16rzs6k9mr0000gn/T/ipykernel_60260/1618521204.py:5: FutureWarning: The frame.append method is deprecated and will be removed from pandas in a future version. Use pandas.concat instead.\n",
      "  pd = pd.append(df, ignore_index=True)\n",
      "/var/folders/wd/g8mvvv392p11yf16rzs6k9mr0000gn/T/ipykernel_60260/1618521204.py:5: FutureWarning: The frame.append method is deprecated and will be removed from pandas in a future version. Use pandas.concat instead.\n",
      "  pd = pd.append(df, ignore_index=True)\n",
      "/var/folders/wd/g8mvvv392p11yf16rzs6k9mr0000gn/T/ipykernel_60260/1618521204.py:5: FutureWarning: The frame.append method is deprecated and will be removed from pandas in a future version. Use pandas.concat instead.\n",
      "  pd = pd.append(df, ignore_index=True)\n",
      "/var/folders/wd/g8mvvv392p11yf16rzs6k9mr0000gn/T/ipykernel_60260/1618521204.py:5: FutureWarning: The frame.append method is deprecated and will be removed from pandas in a future version. Use pandas.concat instead.\n",
      "  pd = pd.append(df, ignore_index=True)\n",
      "/var/folders/wd/g8mvvv392p11yf16rzs6k9mr0000gn/T/ipykernel_60260/1618521204.py:5: FutureWarning: The frame.append method is deprecated and will be removed from pandas in a future version. Use pandas.concat instead.\n",
      "  pd = pd.append(df, ignore_index=True)\n",
      "/var/folders/wd/g8mvvv392p11yf16rzs6k9mr0000gn/T/ipykernel_60260/1618521204.py:5: FutureWarning: The frame.append method is deprecated and will be removed from pandas in a future version. Use pandas.concat instead.\n",
      "  pd = pd.append(df, ignore_index=True)\n",
      "/var/folders/wd/g8mvvv392p11yf16rzs6k9mr0000gn/T/ipykernel_60260/1618521204.py:5: FutureWarning: The frame.append method is deprecated and will be removed from pandas in a future version. Use pandas.concat instead.\n",
      "  pd = pd.append(df, ignore_index=True)\n",
      "/var/folders/wd/g8mvvv392p11yf16rzs6k9mr0000gn/T/ipykernel_60260/1618521204.py:5: FutureWarning: The frame.append method is deprecated and will be removed from pandas in a future version. Use pandas.concat instead.\n",
      "  pd = pd.append(df, ignore_index=True)\n",
      "/var/folders/wd/g8mvvv392p11yf16rzs6k9mr0000gn/T/ipykernel_60260/1618521204.py:5: FutureWarning: The frame.append method is deprecated and will be removed from pandas in a future version. Use pandas.concat instead.\n",
      "  pd = pd.append(df, ignore_index=True)\n",
      "/var/folders/wd/g8mvvv392p11yf16rzs6k9mr0000gn/T/ipykernel_60260/1618521204.py:5: FutureWarning: The frame.append method is deprecated and will be removed from pandas in a future version. Use pandas.concat instead.\n",
      "  pd = pd.append(df, ignore_index=True)\n",
      "/var/folders/wd/g8mvvv392p11yf16rzs6k9mr0000gn/T/ipykernel_60260/1618521204.py:5: FutureWarning: The frame.append method is deprecated and will be removed from pandas in a future version. Use pandas.concat instead.\n",
      "  pd = pd.append(df, ignore_index=True)\n",
      "/var/folders/wd/g8mvvv392p11yf16rzs6k9mr0000gn/T/ipykernel_60260/1618521204.py:5: FutureWarning: The frame.append method is deprecated and will be removed from pandas in a future version. Use pandas.concat instead.\n",
      "  pd = pd.append(df, ignore_index=True)\n"
     ]
    }
   ],
   "source": [
    "for file in parquet_files:\n",
    "    file_path = os.path.join(folder_path, file)\n",
    "    table = pq.read_table(file_path)\n",
    "    df = table.to_pandas()\n",
    "    pd = pd.append(df, ignore_index=True)"
   ]
  }
 ],
 "metadata": {
  "kernelspec": {
   "display_name": "Python 3.10.10 ('base')",
   "language": "python",
   "name": "python3"
  },
  "language_info": {
   "codemirror_mode": {
    "name": "ipython",
    "version": 3
   },
   "file_extension": ".py",
   "mimetype": "text/x-python",
   "name": "python",
   "nbconvert_exporter": "python",
   "pygments_lexer": "ipython3",
   "version": "3.10.10"
  },
  "vscode": {
   "interpreter": {
    "hash": "f10e0bbdcb8a5227530b5aed21b374411d613e5cbe3bc0662ba6adc52ae7b0de"
   }
  }
 },
 "nbformat": 4,
 "nbformat_minor": 5
}
